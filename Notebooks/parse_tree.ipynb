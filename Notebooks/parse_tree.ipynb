{
 "cells": [
  {
   "cell_type": "markdown",
   "metadata": {},
   "source": [
    "# Parse tree implementation \n",
    "\n",
    "*in Python just for test purposes*\n",
    "\n",
    "The approach shown below **is really good** because its complexity is `O(n)`. Its only drawback is that each operation must have its own parenthesis (which are not very pleasant to type). Of course, this algorithm can be improved."
   ]
  },
  {
   "cell_type": "code",
   "execution_count": 4,
   "metadata": {},
   "outputs": [],
   "source": [
    "# Ready solution from: https://bradfieldcs.com/algos/trees/parse-trees/\n",
    "\n",
    "import operator\n",
    "\n",
    "OPERATORS = {\n",
    "    '+': operator.add,\n",
    "    '-': operator.sub,\n",
    "    '*': operator.mul,\n",
    "    '/': operator.truediv\n",
    "}\n",
    "LEFT_PAREN = '('\n",
    "RIGHT_PAREN = ')'\n",
    "\n",
    "def build_parse_tree(expression):\n",
    "    tree = {}\n",
    "    stack = [tree]\n",
    "    node = tree\n",
    "\n",
    "    def disp():\n",
    "        print(f\"\\n: === New token: {token} === :\")\n",
    "        print(f\"{tree=}\")\n",
    "        print(f\"{stack=}\")\n",
    "        print(f\"{node=}\")\n",
    "\n",
    "    for token in expression:\n",
    "        if token == LEFT_PAREN:\n",
    "            node['left'] = {}\n",
    "            stack.append(node)\n",
    "            node = node['left']\n",
    "            disp()\n",
    "        elif token == RIGHT_PAREN:\n",
    "            node = stack.pop()\n",
    "            disp()\n",
    "        elif token in OPERATORS:\n",
    "            node['val'] = token\n",
    "            node['right'] = {}\n",
    "            stack.append(node)\n",
    "            node = node['right']\n",
    "            disp()\n",
    "        else:\n",
    "            node['val'] = int(token)\n",
    "            parent = stack.pop()\n",
    "            node = parent\n",
    "            disp()\n",
    "    return tree"
   ]
  },
  {
   "cell_type": "code",
   "execution_count": 5,
   "metadata": {},
   "outputs": [
    {
     "name": "stdout",
     "output_type": "stream",
     "text": [
      "\n",
      ": === New token: ( === :\n",
      "tree={'left': {}}\n",
      "stack=[{'left': {}}, {'left': {}}]\n",
      "node={}\n",
      "\n",
      ": === New token: ( === :\n",
      "tree={'left': {'left': {}}}\n",
      "stack=[{'left': {'left': {}}}, {'left': {'left': {}}}, {'left': {}}]\n",
      "node={}\n",
      "\n",
      ": === New token: 1 === :\n",
      "tree={'left': {'left': {'val': 1}}}\n",
      "stack=[{'left': {'left': {'val': 1}}}, {'left': {'left': {'val': 1}}}]\n",
      "node={'left': {'val': 1}}\n",
      "\n",
      ": === New token: + === :\n",
      "tree={'left': {'left': {'val': 1}, 'val': '+', 'right': {}}}\n",
      "stack=[{'left': {'left': {'val': 1}, 'val': '+', 'right': {}}}, {'left': {'left': {'val': 1}, 'val': '+', 'right': {}}}, {'left': {'val': 1}, 'val': '+', 'right': {}}]\n",
      "node={}\n",
      "\n",
      ": === New token: 2 === :\n",
      "tree={'left': {'left': {'val': 1}, 'val': '+', 'right': {'val': 2}}}\n",
      "stack=[{'left': {'left': {'val': 1}, 'val': '+', 'right': {'val': 2}}}, {'left': {'left': {'val': 1}, 'val': '+', 'right': {'val': 2}}}]\n",
      "node={'left': {'val': 1}, 'val': '+', 'right': {'val': 2}}\n",
      "\n",
      ": === New token: ) === :\n",
      "tree={'left': {'left': {'val': 1}, 'val': '+', 'right': {'val': 2}}}\n",
      "stack=[{'left': {'left': {'val': 1}, 'val': '+', 'right': {'val': 2}}}]\n",
      "node={'left': {'left': {'val': 1}, 'val': '+', 'right': {'val': 2}}}\n",
      "\n",
      ": === New token: / === :\n",
      "tree={'left': {'left': {'val': 1}, 'val': '+', 'right': {'val': 2}}, 'val': '/', 'right': {}}\n",
      "stack=[{'left': {'left': {'val': 1}, 'val': '+', 'right': {'val': 2}}, 'val': '/', 'right': {}}, {'left': {'left': {'val': 1}, 'val': '+', 'right': {'val': 2}}, 'val': '/', 'right': {}}]\n",
      "node={}\n",
      "\n",
      ": === New token: 3 === :\n",
      "tree={'left': {'left': {'val': 1}, 'val': '+', 'right': {'val': 2}}, 'val': '/', 'right': {'val': 3}}\n",
      "stack=[{'left': {'left': {'val': 1}, 'val': '+', 'right': {'val': 2}}, 'val': '/', 'right': {'val': 3}}]\n",
      "node={'left': {'left': {'val': 1}, 'val': '+', 'right': {'val': 2}}, 'val': '/', 'right': {'val': 3}}\n",
      "\n",
      ": === New token: ) === :\n",
      "tree={'left': {'left': {'val': 1}, 'val': '+', 'right': {'val': 2}}, 'val': '/', 'right': {'val': 3}}\n",
      "stack=[]\n",
      "node={'left': {'left': {'val': 1}, 'val': '+', 'right': {'val': 2}}, 'val': '/', 'right': {'val': 3}}\n"
     ]
    },
    {
     "data": {
      "text/plain": [
       "{'left': {'left': {'val': 1}, 'val': '+', 'right': {'val': 2}},\n",
       " 'val': '/',\n",
       " 'right': {'val': 3}}"
      ]
     },
     "execution_count": 5,
     "metadata": {},
     "output_type": "execute_result"
    }
   ],
   "source": [
    "test_string = list(\"((1+2)/3)\")\n",
    "build_parse_tree(test_string)"
   ]
  },
  {
   "cell_type": "markdown",
   "metadata": {},
   "source": [
    "There is also **another solution** to this problem, which you can read about [here](https://www.reddit.com/r/learnpython/comments/l1ybvx/making_a_pemdas_calculator/). Obviously, it is less effective because it uses recursion, but solving the problem of missing parenthesis is straightforward and does not require much effort."
   ]
  }
 ],
 "metadata": {
  "interpreter": {
   "hash": "730f1b0108ffdc9d868679e7c940bbfdeb17152f20c1e0fb42578db390955ef9"
  },
  "kernelspec": {
   "display_name": "Python 3.7.11 64-bit ('jupyter-pytorch': conda)",
   "language": "python",
   "name": "python3"
  },
  "language_info": {
   "codemirror_mode": {
    "name": "ipython",
    "version": 3
   },
   "file_extension": ".py",
   "mimetype": "text/x-python",
   "name": "python",
   "nbconvert_exporter": "python",
   "pygments_lexer": "ipython3",
   "version": "3.9.5"
  },
  "orig_nbformat": 4
 },
 "nbformat": 4,
 "nbformat_minor": 2
}
